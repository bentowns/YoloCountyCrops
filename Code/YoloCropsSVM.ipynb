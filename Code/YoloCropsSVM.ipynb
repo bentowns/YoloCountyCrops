{
  "nbformat": 4,
  "nbformat_minor": 0,
  "metadata": {
    "colab": {
      "provenance": []
    },
    "kernelspec": {
      "name": "python3",
      "display_name": "Python 3"
    },
    "language_info": {
      "name": "python"
    }
  },
  "cells": [
    {
      "cell_type": "code",
      "execution_count": null,
      "metadata": {
        "id": "LL-cgUA79WLa"
      },
      "outputs": [],
      "source": [
        "#Import Packages\n",
        "import pandas as pd\n",
        "import numpy as np\n",
        "import seaborn as sns\n",
        "import matplotlib.pyplot as plt\n",
        "from sklearn.svm import SVC\n",
        "from sklearn.metrics import confusion_matrix\n",
        "from sklearn.model_selection import train_test_split\n",
        "from sklearn import preprocessing"
      ]
    },
    {
      "cell_type": "code",
      "source": [
        "#Mount drive\n",
        "from google.colab import drive\n",
        "drive.mount('/content/drive')"
      ],
      "metadata": {
        "colab": {
          "base_uri": "https://localhost:8080/"
        },
        "id": "0RqunvWijWiF",
        "outputId": "604c976c-d4d6-4df5-a349-da1e27a2a188"
      },
      "execution_count": null,
      "outputs": [
        {
          "output_type": "stream",
          "name": "stdout",
          "text": [
            "Mounted at /content/drive\n"
          ]
        }
      ]
    },
    {
      "cell_type": "code",
      "source": [
        "#Look at directory\n",
        "%cd /content/drive/My Drive/data/YoloCountyCrops\n",
        "%ls # then you should see the data file"
      ],
      "metadata": {
        "colab": {
          "base_uri": "https://localhost:8080/"
        },
        "id": "kdovrI-gjXTt",
        "outputId": "3b6579a0-8a85-4163-ca6a-9b0763360d7b"
      },
      "execution_count": null,
      "outputs": [
        {
          "output_type": "stream",
          "name": "stdout",
          "text": [
            "/content/drive/My Drive/data/YoloCountyCrops\n",
            "model.png  YoloCountyCropsML.csv\n"
          ]
        }
      ]
    },
    {
      "cell_type": "code",
      "source": [
        "#Load the data\n",
        "data=pd.read_table(\"YoloCountyCropsML.csv\", sep=\",\")"
      ],
      "metadata": {
        "id": "XVYkbnRgkJWC"
      },
      "execution_count": null,
      "outputs": []
    },
    {
      "cell_type": "code",
      "source": [
        "# define X (input features), and y(class labels) - occupancy data\n",
        "X=data.drop([\"Unnamed: 0\",\"OBJECTID\", \"OBJECTID_1\", \"acres\", \"croptype\"],axis=1)\n",
        "y=data[\"croptype\"]"
      ],
      "metadata": {
        "id": "t7tpBWsDkNBb"
      },
      "execution_count": null,
      "outputs": []
    },
    {
      "cell_type": "code",
      "source": [
        "#Normalize the input data\n",
        "X_norm=preprocessing.scale(X)\n",
        "#Split the data into train/test data\n",
        "X_train, X_test, Y_train, Y_test = train_test_split(X_norm, y, test_size=0.3, random_state=0)"
      ],
      "metadata": {
        "id": "1QtSS3jck4hD"
      },
      "execution_count": null,
      "outputs": []
    },
    {
      "cell_type": "code",
      "source": [
        "#SVM Classification type 1: Linear\n",
        "\n",
        "#Set kernel type to linear\n",
        "linear_svc=SVC(kernel='linear', C=15.0, probability=True) \n",
        "\n",
        "#Fit the data\n",
        "linear_svc.fit(X_train,Y_train)\n",
        "\n",
        "#Make Predictions\n",
        "Y_predSVML = linear_svc.predict(X_test)\n",
        "\n",
        "# Print Scores\n",
        "print('Training set score: {:.4f}'.format(linear_svc.score(X_train, Y_train)))\n",
        "print('Test set score: {:.4f}'.format(linear_svc.score(X_test, Y_test)))"
      ],
      "metadata": {
        "colab": {
          "base_uri": "https://localhost:8080/"
        },
        "id": "Q5ZUm_bdlBD6",
        "outputId": "d938bcdf-ce6e-4d67-fd69-14eed693050b"
      },
      "execution_count": null,
      "outputs": [
        {
          "output_type": "stream",
          "name": "stdout",
          "text": [
            "Training set score: 0.8823\n",
            "Test set score: 0.8471\n"
          ]
        }
      ]
    },
    {
      "cell_type": "code",
      "source": [
        "#Create confusion matrix for Random Forests\n",
        "from sklearn.metrics import confusion_matrix\n",
        "confusionmatrix=confusion_matrix(Y_test, Y_predSVML)\n",
        "\n",
        "cm_matrix = pd.DataFrame(data=confusionmatrix, columns=['Predict Almond', 'Predict Grape', 'Predict Olive', 'Predict Walnut'], \n",
        "                                 index=['Almond', 'Grape', 'Olive', 'Walnut'])\n",
        "\n",
        "sns.heatmap(cm_matrix, annot=True, fmt='d', cmap='YlGnBu')"
      ],
      "metadata": {
        "colab": {
          "base_uri": "https://localhost:8080/",
          "height": 539
        },
        "id": "uaIZhf80lOR4",
        "outputId": "4bdea08a-4a88-46a1-bb5c-bcbaacf4a1d9"
      },
      "execution_count": null,
      "outputs": [
        {
          "output_type": "execute_result",
          "data": {
            "text/plain": [
              "<Axes: >"
            ]
          },
          "metadata": {},
          "execution_count": 8
        },
        {
          "output_type": "display_data",
          "data": {
            "text/plain": [
              "<Figure size 640x480 with 2 Axes>"
            ],
            "image/png": "[encoded data removed]"
          },
          "metadata": {}
        }
      ]
    },
    {
      "cell_type": "code",
      "source": [
        "#calculate accuracy\n",
        "print(210 / (210 + 8 + 5 + 8)) #Almonds\n",
        "print(66 / (66 + 6 + 8 + 2)) #Grapes\n",
        "print(24 / (24 + 6 + 4 + 4)) #Olives\n",
        "print(99 / (99 + 16 + 2 + 3)) #Walnuts"
      ],
      "metadata": {
        "colab": {
          "base_uri": "https://localhost:8080/"
        },
        "id": "P1NwgZFhETWz",
        "outputId": "00ae78f4-9a76-43ce-9c60-da9be2ed7ae5"
      },
      "execution_count": null,
      "outputs": [
        {
          "output_type": "stream",
          "name": "stdout",
          "text": [
            "0.9090909090909091\n",
            "0.8048780487804879\n",
            "0.631578947368421\n",
            "0.825\n"
          ]
        }
      ]
    }
  ]
}