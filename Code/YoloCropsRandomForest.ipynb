{
  "nbformat": 4,
  "nbformat_minor": 0,
  "metadata": {
    "colab": {
      "provenance": []
    },
    "kernelspec": {
      "name": "python3",
      "display_name": "Python 3"
    },
    "language_info": {
      "name": "python"
    }
  },
  "cells": [
    {
      "cell_type": "code",
      "source": [
        "#Import Packages\n",
        "import pandas as pd\n",
        "import numpy as np\n",
        "import seaborn as sns\n",
        "import matplotlib.pyplot as plt\n",
        "from sklearn.ensemble import RandomForestClassifier\n",
        "from sklearn.metrics import confusion_matrix\n",
        "from sklearn.model_selection import train_test_split"
      ],
      "metadata": {
        "id": "2y3l0sDNwzA6"
      },
      "execution_count": null,
      "outputs": []
    },
    {
      "cell_type": "code",
      "source": [
        "#Mount drive\n",
        "from google.colab import drive\n",
        "drive.mount('/content/drive')"
      ],
      "metadata": {
        "colab": {
          "base_uri": "https://localhost:8080/"
        },
        "id": "yvv2ik24ziDx",
        "outputId": "3181a65f-d5d0-457b-c335-52e2b39bb37c"
      },
      "execution_count": null,
      "outputs": [
        {
          "output_type": "stream",
          "name": "stdout",
          "text": [
            "Mounted at /content/drive\n"
          ]
        }
      ]
    },
    {
      "cell_type": "code",
      "source": [
        "#Look at directory\n",
        "%cd /content/drive/My Drive/data/YoloCountyCrops\n",
        "%ls # then you should see the data file"
      ],
      "metadata": {
        "colab": {
          "base_uri": "https://localhost:8080/"
        },
        "id": "ZalVnwwkzjhn",
        "outputId": "618f41d8-7dbe-4aa8-ae43-e9544eca66ae"
      },
      "execution_count": null,
      "outputs": [
        {
          "output_type": "stream",
          "name": "stdout",
          "text": [
            "/content/drive/My Drive/data/YoloCountyCrops\n",
            "model.png  YoloCountyCropsML.csv\n"
          ]
        }
      ]
    },
    {
      "cell_type": "code",
      "source": [
        "#Load the data\n",
        "data=pd.read_table(\"YoloCountyCropsML.csv\", sep=\",\")"
      ],
      "metadata": {
        "id": "WQilw3HfzsTo"
      },
      "execution_count": null,
      "outputs": []
    },
    {
      "cell_type": "code",
      "source": [
        "#Take a quick look at the data\n",
        "data.info()"
      ],
      "metadata": {
        "colab": {
          "base_uri": "https://localhost:8080/"
        },
        "id": "idubpqwM0mXw",
        "outputId": "693971e4-f501-4e2d-ff5d-d2be89a552ca"
      },
      "execution_count": null,
      "outputs": [
        {
          "output_type": "stream",
          "name": "stdout",
          "text": [
            "<class 'pandas.core.frame.DataFrame'>\n",
            "RangeIndex: 1567 entries, 0 to 1566\n",
            "Data columns (total 20 columns):\n",
            " #   Column      Non-Null Count  Dtype  \n",
            "---  ------      --------------  -----  \n",
            " 0   Unnamed: 0  1567 non-null   int64  \n",
            " 1   OBJECTID    1567 non-null   int64  \n",
            " 2   OBJECTID_1  1567 non-null   int64  \n",
            " 3   acres       1567 non-null   float64\n",
            " 4   croptype    1567 non-null   object \n",
            " 5   Band2       1567 non-null   float64\n",
            " 6   Band3       1567 non-null   float64\n",
            " 7   Band4       1567 non-null   float64\n",
            " 8   Band8       1567 non-null   float64\n",
            " 9   Band5       1567 non-null   float64\n",
            " 10  Band6       1567 non-null   float64\n",
            " 11  Band7       1567 non-null   float64\n",
            " 12  Band11      1567 non-null   float64\n",
            " 13  Band12      1567 non-null   float64\n",
            " 14  Band8A      1567 non-null   float64\n",
            " 15  EVI         1567 non-null   float64\n",
            " 16  GCI         1567 non-null   float64\n",
            " 17  NDTI        1567 non-null   float64\n",
            " 18  PSRI        1567 non-null   float64\n",
            " 19  SAVI        1567 non-null   float64\n",
            "dtypes: float64(16), int64(3), object(1)\n",
            "memory usage: 245.0+ KB\n"
          ]
        }
      ]
    },
    {
      "cell_type": "code",
      "source": [
        "# define X (input features), and y(class labels) - occupancy data\n",
        "X=data.drop([\"Unnamed: 0\",\"OBJECTID\", \"OBJECTID_1\", \"acres\", \"croptype\"],axis=1)\n",
        "y=data[\"croptype\"]"
      ],
      "metadata": {
        "id": "DLS8Oogwzz6Y"
      },
      "execution_count": null,
      "outputs": []
    },
    {
      "cell_type": "code",
      "execution_count": null,
      "metadata": {
        "colab": {
          "base_uri": "https://localhost:8080/"
        },
        "id": "-hoSVvDTq4Dp",
        "outputId": "bc8825c7-409d-44b9-95a2-7ccce45143f5"
      },
      "outputs": [
        {
          "output_type": "stream",
          "name": "stdout",
          "text": [
            "Training set score: 1.0000\n",
            "Test set score: 0.8705\n"
          ]
        }
      ],
      "source": [
        "# Split data into training and test datasets\n",
        "X_train, X_test, Y_train, Y_test = train_test_split(X, y, test_size=0.3, random_state=0)\n",
        "\n",
        "#Build Random Forest Classifier\n",
        "forest = RandomForestClassifier(n_estimators=80, n_jobs=-1, \n",
        "                                random_state=42)\n",
        "forest.fit(X_train, Y_train)\n",
        "Y_predRF = forest.predict(X_test)\n",
        "#Get Scores\n",
        "print('Training set score: {:.4f}'.format(forest.score(X_train, Y_train)))\n",
        "print('Test set score: {:.4f}'.format(forest.score(X_test, Y_test)))"
      ]
    },
    {
      "cell_type": "code",
      "source": [
        "#Create confusion matrix for Random Forests\n",
        "from sklearn.metrics import confusion_matrix\n",
        "confusionmatrix=confusion_matrix(Y_test, Y_predRF)\n",
        "\n",
        "cm_matrix = pd.DataFrame(data=confusionmatrix, columns=['Predict Almond', 'Predict Grape', 'Predict Olive', 'Predict Walnut'], \n",
        "                                 index=['Almond', 'Grape', 'Olive', 'Walnut'])\n",
        "\n",
        "sns.heatmap(cm_matrix, annot=True, fmt='d', cmap='YlGnBu')"
      ],
      "metadata": {
        "colab": {
          "base_uri": "https://localhost:8080/",
          "height": 539
        },
        "id": "SvHkp5zev9pT",
        "outputId": "4735891c-adcb-475c-afb1-3be4d15dd0ca"
      },
      "execution_count": null,
      "outputs": [
        {
          "output_type": "execute_result",
          "data": {
            "text/plain": [
              "<Axes: >"
            ]
          },
          "metadata": {},
          "execution_count": 8
        },
        {
          "output_type": "display_data",
          "data": {
            "text/plain": [
              "<Figure size 640x480 with 2 Axes>"
            ],
            "image/png": "[encoded data removed]"
          },
          "metadata": {}
        }
      ]
    },
    {
      "cell_type": "code",
      "source": [
        "#calculate accuracy\n",
        "print(214 / (214 + 8 + 2 +7)) #Almonds\n",
        "print(71 / (71 + 7 + 3 +1)) #Grapes\n",
        "print(26 / (26 + 6 + 4 + 2)) #Olives\n",
        "print(99 / (99 + 12 + 8 +1)) #Walnuts\n"
      ],
      "metadata": {
        "colab": {
          "base_uri": "https://localhost:8080/"
        },
        "id": "4OijsY0PBTnv",
        "outputId": "02523f1f-ea2e-43fe-f297-5b6febe115bb"
      },
      "execution_count": null,
      "outputs": [
        {
          "output_type": "stream",
          "name": "stdout",
          "text": [
            "0.9264069264069265\n",
            "0.8658536585365854\n",
            "0.6842105263157895\n",
            "0.825\n"
          ]
        }
      ]
    }
  ]
}